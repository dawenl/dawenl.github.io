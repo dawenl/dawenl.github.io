{
 "cells": [
  {
   "cell_type": "code",
   "execution_count": 1,
   "metadata": {
    "collapsed": true
   },
   "outputs": [],
   "source": [
    "import itertools\n",
    "import os\n",
    "os.environ['OPENBLAS_NUM_THREADS'] = '1'\n",
    "\n",
    "import numpy\n",
    "import numpy as np\n",
    "import matplotlib.pyplot as plt\n",
    "%matplotlib inline\n",
    "import scipy\n",
    "\n",
    "import seaborn\n",
    "seaborn.set(context=\"paper\", font_scale=1.5, rc={\"lines.linewidth\": 2}, font='DejaVu Serif')\n",
    "\n",
    "from joblib import Parallel, delayed"
   ]
  },
  {
   "cell_type": "code",
   "execution_count": 2,
   "metadata": {
    "collapsed": false
   },
   "outputs": [
    {
     "name": "stdout",
     "output_type": "stream",
     "text": [
      "/home/dliang/nmar-factorization/adith\n",
      "/home/dliang/nmar-factorization/dawen\n"
     ]
    }
   ],
   "source": [
    "%cd ../adith/\n",
    "import Datasets\n",
    "import Metrics\n",
    "import MF\n",
    "import BMF\n",
    "%cd ../dawen/"
   ]
  },
  {
   "cell_type": "code",
   "execution_count": 3,
   "metadata": {
    "collapsed": true
   },
   "outputs": [],
   "source": [
    "np.random.seed(98765)"
   ]
  },
  {
   "cell_type": "markdown",
   "metadata": {},
   "source": [
    "### Get the ML100K dataset and train a best MF (in terms of completion)"
   ]
  },
  {
   "cell_type": "code",
   "execution_count": 4,
   "metadata": {
    "collapsed": true
   },
   "outputs": [],
   "source": [
    "def ML100K_train_test_split(repo_path, prop=0.1, verbose=False):\n",
    "    f = open(repo_path + \"/evaluation/exp/data/u.data\", 'r')\n",
    "    rows = []\n",
    "    cols = []\n",
    "    vals = []\n",
    "    numUsers = 0\n",
    "    numItems = 0\n",
    "    for line in f:\n",
    "        tokens = line.strip().split('\\t')\n",
    "        rowIndex = int(tokens[0])-1\n",
    "        colIndex = int(tokens[1])-1\n",
    "        rows.append(rowIndex)\n",
    "        cols.append(colIndex)\n",
    "        vals.append(int(tokens[2]))\n",
    "        \n",
    "        if rowIndex >= numUsers:\n",
    "            numUsers = rowIndex + 1\n",
    "        if colIndex >= numItems:\n",
    "            numItems = colIndex + 1\n",
    "            \n",
    "    f.close()\n",
    "    \n",
    "    numRatings = len(vals)\n",
    "    rows = numpy.array(rows)\n",
    "    cols = numpy.array(cols)\n",
    "    vals = numpy.array(vals)\n",
    "    \n",
    "    if verbose:\n",
    "        print \"Datasets.ML100K: [DBG]\\t NumUsers,NumItems,NumObservations:\", numUsers, numItems, numRatings\n",
    "    \n",
    "    shuffleOrder = numpy.random.permutation(numRatings)\n",
    "    testFraction = int(prop * numRatings)\n",
    "    \n",
    "    testIndices = shuffleOrder[0:testFraction]\n",
    "    testRows = rows[testIndices]\n",
    "    testCols = cols[testIndices]\n",
    "    testVals = vals[testIndices]\n",
    "    testMatrix = scipy.sparse.coo_matrix((testVals, (testRows,testCols)), shape = (numUsers, numItems),\n",
    "                        dtype = numpy.int)\n",
    "    testMatrix = testMatrix.toarray()\n",
    "    \n",
    "    #Finish loading the training set ratings\n",
    "    trainIndices = shuffleOrder[testFraction:]\n",
    "    trainRows = rows[trainIndices]\n",
    "    trainCols = cols[trainIndices]\n",
    "    trainVals = vals[trainIndices]\n",
    "    trainMatrix = scipy.sparse.coo_matrix((trainVals, (trainRows,trainCols)), shape = (numUsers, numItems),\n",
    "                        dtype = numpy.int)\n",
    "    trainMatrix = trainMatrix.toarray()\n",
    "    return trainMatrix, testMatrix"
   ]
  },
  {
   "cell_type": "code",
   "execution_count": 5,
   "metadata": {
    "collapsed": false
   },
   "outputs": [
    {
     "name": "stdout",
     "output_type": "stream",
     "text": [
      "Datasets.ML100K: [DBG]\t NumUsers,NumItems,NumObservations: 943 1682 100000\n"
     ]
    }
   ],
   "source": [
    "trainMatrix, testMatrix = ML100K_train_test_split('../', 0.1, True)"
   ]
  },
  {
   "cell_type": "code",
   "execution_count": 6,
   "metadata": {
    "collapsed": true
   },
   "outputs": [],
   "source": [
    "ratingMarginals = Datasets.RATING_MARGINALS_R3_UNIF('../')"
   ]
  },
  {
   "cell_type": "code",
   "execution_count": 7,
   "metadata": {
    "collapsed": false
   },
   "outputs": [],
   "source": [
    "ratingCumulative = np.cumsum(ratingMarginals, dtype = np.float)"
   ]
  },
  {
   "cell_type": "code",
   "execution_count": 8,
   "metadata": {
    "collapsed": false
   },
   "outputs": [],
   "source": [
    "lambdas = [1e-6,1e-5,1e-4,1e-3,1e-2,1e-1,1]\n",
    "dims = [5,10,20,40,80]\n",
    "paramSettings = list(itertools.product(lambdas, dims))"
   ]
  },
  {
   "cell_type": "code",
   "execution_count": 9,
   "metadata": {
    "collapsed": true
   },
   "outputs": [],
   "source": [
    "def MF_generate_matrix_wrapper(train_matrix, l2, n_dims):\n",
    "    model = MF.GENERATE_MATRIX(train_matrix, None, l2, 'MSE', 0, None, n_dims)\n",
    "    return ((l2, n_dims), model)"
   ]
  },
  {
   "cell_type": "code",
   "execution_count": 10,
   "metadata": {
    "collapsed": false
   },
   "outputs": [],
   "source": [
    "modelsPerLambda = Parallel(n_jobs=10)(delayed(MF_generate_matrix_wrapper)(trainMatrix, l2Lambda[0], l2Lambda[1])\n",
    "                                     for l2Lambda in paramSettings)"
   ]
  },
  {
   "cell_type": "code",
   "execution_count": 11,
   "metadata": {
    "collapsed": true
   },
   "outputs": [],
   "source": [
    "def raw_to_ratings(complete_raw_scores, cumulative_rating):\n",
    "    currentCompleteTestMatrix = np.empty_like(complete_raw_scores, dtype=np.int)\n",
    "    sortedScores = np.sort(complete_raw_scores, axis=None)\n",
    "    numEntries = sortedScores.size\n",
    "    checkPoints = [sortedScores[0]] + [sortedScores[int(cumulative_rating[i] * numEntries) - 1] for i in range(5)]\n",
    "    \n",
    "    for i in range(1,6):\n",
    "        mask = np.logical_and(complete_raw_scores >= checkPoints[i-1], complete_raw_scores <= checkPoints[i])\n",
    "        currentCompleteTestMatrix[mask] = i\n",
    "    return currentCompleteTestMatrix"
   ]
  },
  {
   "cell_type": "code",
   "execution_count": 12,
   "metadata": {
    "collapsed": true
   },
   "outputs": [],
   "source": [
    "def compute_num_matches(test_matrix, model, cumulative_rating):\n",
    "    completeScores = MF.PREDICTED_SCORES(*model)\n",
    "    currentCompleteTestMatrix = raw_to_ratings(completeScores, cumulative_rating)\n",
    "        \n",
    "    #Now check the quality of this completion\n",
    "    checkIndices = numpy.where(test_matrix > 0)\n",
    "    discrepancy = currentCompleteTestMatrix[checkIndices] - test_matrix[checkIndices]\n",
    "    numMatches = numpy.sum(discrepancy == 0, dtype = numpy.int)\n",
    "    return numMatches"
   ]
  },
  {
   "cell_type": "code",
   "execution_count": 13,
   "metadata": {
    "collapsed": false
   },
   "outputs": [
    {
     "name": "stdout",
     "output_type": "stream",
     "text": [
      "l2=1.000e-06\tn_dims=5\tnum_mathces=1339 out of 10000\n",
      "l2=1.000e-06\tn_dims=10\tnum_mathces=1256 out of 10000\n",
      "l2=1.000e-06\tn_dims=20\tnum_mathces=1333 out of 10000\n",
      "l2=1.000e-06\tn_dims=40\tnum_mathces=1729 out of 10000\n",
      "l2=1.000e-06\tn_dims=80\tnum_mathces=1919 out of 10000\n",
      "l2=1.000e-05\tn_dims=5\tnum_mathces=1999 out of 10000\n",
      "l2=1.000e-05\tn_dims=10\tnum_mathces=1873 out of 10000\n",
      "l2=1.000e-05\tn_dims=20\tnum_mathces=1940 out of 10000\n",
      "l2=1.000e-05\tn_dims=40\tnum_mathces=1986 out of 10000\n",
      "l2=1.000e-05\tn_dims=80\tnum_mathces=2132 out of 10000\n",
      "l2=1.000e-04\tn_dims=5\tnum_mathces=2317 out of 10000\n",
      "l2=1.000e-04\tn_dims=10\tnum_mathces=2348 out of 10000\n",
      "l2=1.000e-04\tn_dims=20\tnum_mathces=2307 out of 10000\n",
      "l2=1.000e-04\tn_dims=40\tnum_mathces=2299 out of 10000\n",
      "l2=1.000e-04\tn_dims=80\tnum_mathces=2301 out of 10000\n",
      "l2=1.000e-03\tn_dims=5\tnum_mathces=2262 out of 10000\n",
      "l2=1.000e-03\tn_dims=10\tnum_mathces=2254 out of 10000\n",
      "l2=1.000e-03\tn_dims=20\tnum_mathces=2252 out of 10000\n",
      "l2=1.000e-03\tn_dims=40\tnum_mathces=2264 out of 10000\n",
      "l2=1.000e-03\tn_dims=80\tnum_mathces=2255 out of 10000\n",
      "l2=1.000e-02\tn_dims=5\tnum_mathces=2398 out of 10000\n",
      "l2=1.000e-02\tn_dims=10\tnum_mathces=2401 out of 10000\n",
      "l2=1.000e-02\tn_dims=20\tnum_mathces=2390 out of 10000\n",
      "l2=1.000e-02\tn_dims=40\tnum_mathces=2401 out of 10000\n",
      "l2=1.000e-02\tn_dims=80\tnum_mathces=2399 out of 10000\n",
      "l2=1.000e-01\tn_dims=5\tnum_mathces=2792 out of 10000\n",
      "l2=1.000e-01\tn_dims=10\tnum_mathces=2794 out of 10000\n",
      "l2=1.000e-01\tn_dims=20\tnum_mathces=2792 out of 10000\n",
      "l2=1.000e-01\tn_dims=40\tnum_mathces=2794 out of 10000\n",
      "l2=1.000e-01\tn_dims=80\tnum_mathces=2794 out of 10000\n",
      "l2=1.000e+00\tn_dims=5\tnum_mathces=2976 out of 10000\n",
      "l2=1.000e+00\tn_dims=10\tnum_mathces=2976 out of 10000\n",
      "l2=1.000e+00\tn_dims=20\tnum_mathces=2976 out of 10000\n",
      "l2=1.000e+00\tn_dims=40\tnum_mathces=2976 out of 10000\n",
      "l2=1.000e+00\tn_dims=80\tnum_mathces=2976 out of 10000\n"
     ]
    }
   ],
   "source": [
    "best_param = None\n",
    "best_num_matches = -1\n",
    "\n",
    "for model in modelsPerLambda:\n",
    "    pred = MF.PREDICTED_SCORES(*model[1])\n",
    "    num_matches = compute_num_matches(testMatrix, model[1], ratingCumulative)\n",
    "    print(\"l2=%.3e\\tn_dims=%d\\tnum_mathces=%d out of %d\" % (model[0][0], model[0][1], num_matches, (testMatrix > 0).sum()))\n",
    "    if num_matches >= best_num_matches:\n",
    "        best_num_matches = num_matches\n",
    "        best_param = model"
   ]
  },
  {
   "cell_type": "code",
   "execution_count": 14,
   "metadata": {
    "collapsed": false
   },
   "outputs": [
    {
     "name": "stdout",
     "output_type": "stream",
     "text": [
      "The best model: l2=1.000e+00\tn_dims=80\n"
     ]
    }
   ],
   "source": [
    "print(\"The best model: l2=%.3e\\tn_dims=%d\" % best_param[0])"
   ]
  },
  {
   "cell_type": "markdown",
   "metadata": {},
   "source": [
    "### Generate synthetic data with the learned parameter and flip the predicted raw ratings except top 10 movies per user"
   ]
  },
  {
   "cell_type": "code",
   "execution_count": 15,
   "metadata": {
    "collapsed": true
   },
   "outputs": [],
   "source": [
    "complete_raw_ratings = MF.PREDICTED_SCORES(*best_param[1])"
   ]
  },
  {
   "cell_type": "code",
   "execution_count": 17,
   "metadata": {
    "collapsed": false
   },
   "outputs": [
    {
     "data": {
      "image/png": "[encoded data removed]",
      "text/plain": [
       "<matplotlib.figure.Figure at 0x7f0bc6a107d0>"
      ]
     },
     "metadata": {},
     "output_type": "display_data"
    }
   ],
   "source": [
    "plt.hist(complete_raw_ratings.ravel(), bins=50)\n",
    "pass"
   ]
  },
  {
   "cell_type": "markdown",
   "metadata": {},
   "source": [
    "The predicted ratings are mostly around 1.75, which is bad"
   ]
  },
  {
   "cell_type": "code",
   "execution_count": 18,
   "metadata": {
    "collapsed": true
   },
   "outputs": [],
   "source": [
    "# for each user, keep the score for the top n_recs unchanged and flip the sign for the rest\n",
    "n_recs = 10"
   ]
  },
  {
   "cell_type": "code",
   "execution_count": 19,
   "metadata": {
    "collapsed": true
   },
   "outputs": [],
   "source": [
    "n_users, n_items = complete_raw_ratings.shape"
   ]
  },
  {
   "cell_type": "code",
   "execution_count": 20,
   "metadata": {
    "collapsed": false
   },
   "outputs": [],
   "source": [
    "idx_sorted = np.argsort(complete_raw_ratings, axis=1)"
   ]
  },
  {
   "cell_type": "code",
   "execution_count": 21,
   "metadata": {
    "collapsed": false
   },
   "outputs": [],
   "source": [
    "flipped_raw_ratings = complete_raw_ratings.copy()\n",
    "flipped_raw_ratings[np.arange(n_users)[:, np.newaxis], idx_sorted[:, :-n_recs]] *= -1"
   ]
  },
  {
   "cell_type": "code",
   "execution_count": 22,
   "metadata": {
    "collapsed": true
   },
   "outputs": [],
   "source": [
    "complete_flipped_ratings = raw_to_ratings(flipped_raw_ratings, ratingCumulative)\n",
    "complete_org_ratings = raw_to_ratings(complete_raw_ratings, ratingCumulative)"
   ]
  },
  {
   "cell_type": "code",
   "execution_count": 23,
   "metadata": {
    "collapsed": false
   },
   "outputs": [
    {
     "name": "stdout",
     "output_type": "stream",
     "text": [
      "Datasets.PARTIAL_OBSERVE: [LOG]\t Histogram of complete ratings: [834683 383725 228226  99015  40477] \t Alpha: 0.25 \t Sparsity: 0.01\n",
      "Datasets.PARTIAL_OBSERVE: [DBG]\t PropensityPerRating: [ 0.00106105  0.00424419  0.01697675  0.06790701  0.06790701] \t NumObservations/ExpectedObservations: 15861.26 233573.234375\n",
      "Datasets.PARTIAL_OBSERVE: [DBG]\t Histogram of observed ratings: [ 840 1619 3829 6678 2822]\n"
     ]
    }
   ],
   "source": [
    "alpha = 0.25\n",
    "partial_flipped_observation, gpro_flipped = Datasets.PARTIAL_OBSERVE(complete_flipped_ratings, alpha, 0.01, True) "
   ]
  },
  {
   "cell_type": "code",
   "execution_count": 24,
   "metadata": {
    "collapsed": false
   },
   "outputs": [
    {
     "name": "stdout",
     "output_type": "stream",
     "text": [
      "Datasets.PARTIAL_OBSERVE: [LOG]\t Histogram of complete ratings: [834683 383725 228226  99015  40477] \t Alpha: 0.25 \t Sparsity: 0.01\n",
      "Datasets.PARTIAL_OBSERVE: [DBG]\t PropensityPerRating: [ 0.00106105  0.00424419  0.01697675  0.06790701  0.06790701] \t NumObservations/ExpectedObservations: 15861.26 233573.234375\n",
      "Datasets.PARTIAL_OBSERVE: [DBG]\t Histogram of observed ratings: [ 879 1667 3953 6799 2721]\n"
     ]
    }
   ],
   "source": [
    "partial_org_observation, gpro_org = Datasets.PARTIAL_OBSERVE(complete_org_ratings, alpha, 0.01, True)"
   ]
  },
  {
   "cell_type": "code",
   "execution_count": 25,
   "metadata": {
    "collapsed": false
   },
   "outputs": [],
   "source": [
    "gpro_inv_flipped = 1. / gpro_flipped\n",
    "gpro_inv_org = 1. / gpro_org"
   ]
  },
  {
   "cell_type": "markdown",
   "metadata": {},
   "source": [
    "### Compare MF and BMF"
   ]
  },
  {
   "cell_type": "markdown",
   "metadata": {},
   "source": [
    "We compare MF and BMF on both the original ratings and flipped ratings"
   ]
  },
  {
   "cell_type": "code",
   "execution_count": 26,
   "metadata": {
    "collapsed": true
   },
   "outputs": [],
   "source": [
    "mu = best_param[0][0]\n",
    "numDims = best_param[0][1]\n",
    "numRecs = n_recs\n",
    "\n",
    "currMetric = Metrics.CG"
   ]
  },
  {
   "cell_type": "markdown",
   "metadata": {},
   "source": [
    "Scenario 1: Propensity weighted MF on flipped ratings"
   ]
  },
  {
   "cell_type": "code",
   "execution_count": 45,
   "metadata": {
    "collapsed": true
   },
   "outputs": [],
   "source": [
    "mask_flipped = (partial_flipped_observation > 0)"
   ]
  },
  {
   "cell_type": "code",
   "execution_count": 46,
   "metadata": {
    "collapsed": false
   },
   "outputs": [],
   "source": [
    "params_mf_flipped = MF.GENERATE_MATRIX(partial_flipped_observation, gpro_inv_flipped, mu, 'MSE', 0, None, numDims, False)\n",
    "pred_mf_flipped = MF.PREDICTED_SCORES(*params_mf_flipped)"
   ]
  },
  {
   "cell_type": "code",
   "execution_count": 47,
   "metadata": {
    "collapsed": false
   },
   "outputs": [],
   "source": [
    "# Derive policy\n",
    "policy_mf_flipped = np.zeros_like(pred_mf_flipped, dtype=np.longdouble)\n",
    "selectedItems = np.argsort(-pred_mf_flipped, axis = 1)[:,0:numRecs]\n",
    "policy_mf_flipped[np.arange(n_users)[:, np.newaxis], selectedItems[:, :numRecs]] = 1"
   ]
  },
  {
   "cell_type": "code",
   "execution_count": 48,
   "metadata": {
    "collapsed": false
   },
   "outputs": [
    {
     "name": "stdout",
     "output_type": "stream",
     "text": [
      "PolicyOpt: [LOG] MF on flipped (unmasking training set) \t Eventual result: 5.0\n"
     ]
    }
   ],
   "source": [
    "metricValue = currMetric(complete_flipped_ratings, policy_mf_flipped, None)[0]\n",
    "metricValue = metricValue / numRecs\n",
    "print \"PolicyOpt: [LOG] MF on flipped (unmasking training set) \\t Eventual result:\", metricValue"
   ]
  },
  {
   "cell_type": "code",
   "execution_count": 31,
   "metadata": {
    "collapsed": true
   },
   "outputs": [],
   "source": [
    "# mask the training set\n",
    "pred_mf_flipped[mask_flipped] = -np.inf\n",
    "\n",
    "policy_mf_flipped = np.zeros_like(pred_mf_flipped, dtype=np.longdouble)\n",
    "selectedItems = np.argsort(-pred_mf_flipped, axis = 1)[:,0:numRecs]\n",
    "policy_mf_flipped[np.arange(n_users)[:, np.newaxis], selectedItems[:, :numRecs]] = 1"
   ]
  },
  {
   "cell_type": "code",
   "execution_count": 32,
   "metadata": {
    "collapsed": false
   },
   "outputs": [
    {
     "name": "stdout",
     "output_type": "stream",
     "text": [
      "PolicyOpt: [LOG] MF on flipped (masking training set) \t Eventual result: 4.80604453871\n"
     ]
    }
   ],
   "source": [
    "metricValue = currMetric(complete_flipped_ratings, policy_mf_flipped, None)[0]\n",
    "metricValue = metricValue / numRecs\n",
    "print \"PolicyOpt: [LOG] MF on flipped (masking training set) \\t Eventual result:\", metricValue"
   ]
  },
  {
   "cell_type": "markdown",
   "metadata": {},
   "source": [
    "Scenario 2: Propensity weighted MF on original ratings"
   ]
  },
  {
   "cell_type": "code",
   "execution_count": 33,
   "metadata": {
    "collapsed": false
   },
   "outputs": [],
   "source": [
    "mask_org = (partial_org_observation > 0)"
   ]
  },
  {
   "cell_type": "code",
   "execution_count": 34,
   "metadata": {
    "collapsed": false
   },
   "outputs": [],
   "source": [
    "params_mf_org = MF.GENERATE_MATRIX(partial_org_observation, gpro_inv_org, mu, 'MSE', 0, None, numDims, False)\n",
    "pred_mf_org = MF.PREDICTED_SCORES(*params_mf_org)"
   ]
  },
  {
   "cell_type": "code",
   "execution_count": 35,
   "metadata": {
    "collapsed": true
   },
   "outputs": [],
   "source": [
    "#Derive policy\n",
    "policy_mf_org = np.zeros_like(pred_mf_org, dtype=np.longdouble)\n",
    "selectedItems = np.argsort(-pred_mf_org, axis = 1)[:,0:numRecs]\n",
    "policy_mf_org[np.arange(n_users)[:, np.newaxis], selectedItems[:, :numRecs]] = 1"
   ]
  },
  {
   "cell_type": "code",
   "execution_count": 36,
   "metadata": {
    "collapsed": false
   },
   "outputs": [
    {
     "name": "stdout",
     "output_type": "stream",
     "text": [
      "PolicyOpt: [LOG] MF on original (unmasking training set) \t Eventual result: 4.90593849417\n"
     ]
    }
   ],
   "source": [
    "metricValue = currMetric(complete_org_ratings, policy_mf_org, None)[0]\n",
    "metricValue = metricValue / numRecs\n",
    "print \"PolicyOpt: [LOG] MF on original (unmasking training set) \\t Eventual result:\", metricValue"
   ]
  },
  {
   "cell_type": "code",
   "execution_count": 37,
   "metadata": {
    "collapsed": true
   },
   "outputs": [],
   "source": [
    "pred_mf_org[mask_org] = -np.inf\n",
    "\n",
    "policy_mf_org = np.zeros_like(pred_mf_org, dtype=np.longdouble)\n",
    "selectedItems = np.argsort(-pred_mf_org, axis = 1)[:,0:numRecs]\n",
    "policy_mf_org[np.arange(n_users)[:, np.newaxis], selectedItems[:, :numRecs]] = 1"
   ]
  },
  {
   "cell_type": "code",
   "execution_count": 38,
   "metadata": {
    "collapsed": false
   },
   "outputs": [
    {
     "name": "stdout",
     "output_type": "stream",
     "text": [
      "PolicyOpt: [LOG] MF on original (masking training set) \t Eventual result: 4.8756097561\n"
     ]
    }
   ],
   "source": [
    "metricValue = currMetric(complete_org_ratings, policy_mf_org, None)[0]\n",
    "metricValue = metricValue / numRecs\n",
    "print \"PolicyOpt: [LOG] MF on original (masking training set) \\t Eventual result:\", metricValue"
   ]
  },
  {
   "cell_type": "markdown",
   "metadata": {},
   "source": [
    "Scenario 3: Direct policy learning on flipped ratings"
   ]
  },
  {
   "cell_type": "code",
   "execution_count": 39,
   "metadata": {
    "collapsed": false
   },
   "outputs": [
    {
     "name": "stdout",
     "output_type": "stream",
     "text": [
      "\n",
      "BMF.LEARN: [DBG]\t Iter 0  \t Optimization result: CONVERGENCE: REL_REDUCTION_OF_F_<=_FACTR*EPSMCH\n",
      "\n",
      "BMF.LEARN: [DBG]\t Iter 1  \t Optimization result: CONVERGENCE: REL_REDUCTION_OF_F_<=_FACTR*EPSMCH\n",
      "\n",
      "BMF.LEARN: [DBG]\t Iter 2  \t Optimization result: CONVERGENCE: REL_REDUCTION_OF_F_<=_FACTR*EPSMCH\n",
      "\n",
      "BMF.LEARN: [DBG]\t Iter 3  \t Optimization result: CONVERGENCE: REL_REDUCTION_OF_F_<=_FACTR*EPSMCH\n",
      "\n",
      "BMF.LEARN: [DBG]\t Iter 4  \t Optimization result: CONVERGENCE: REL_REDUCTION_OF_F_<=_FACTR*EPSMCH\n",
      "\n",
      "BMF.LEARN: [DBG]\t Iter 5  \t Optimization result: CONVERGENCE: REL_REDUCTION_OF_F_<=_FACTR*EPSMCH\n",
      "\n",
      "BMF.LEARN: [DBG]\t Iter 6  \t Optimization result: CONVERGENCE: REL_REDUCTION_OF_F_<=_FACTR*EPSMCH\n",
      "\n",
      "BMF.LEARN: [DBG]\t Iter 7  \t Optimization result: CONVERGENCE: REL_REDUCTION_OF_F_<=_FACTR*EPSMCH\n",
      "\n",
      "BMF.LEARN: [DBG]\t Iter 8  \t Optimization result: CONVERGENCE: REL_REDUCTION_OF_F_<=_FACTR*EPSMCH\n",
      "\n",
      "BMF.LEARN: [DBG]\t Iter 9  \t Optimization result: CONVERGENCE: REL_REDUCTION_OF_F_<=_FACTR*EPSMCH\n",
      "\n",
      "BMF.LEARN: [DBG]\t Iter 10  \t Optimization result: CONVERGENCE: REL_REDUCTION_OF_F_<=_FACTR*EPSMCH\n"
     ]
    }
   ],
   "source": [
    "params_bmf_flipped = BMF.LEARN(partial_flipped_observation, gpro_inv_flipped, mu, None, numDims, numRecs, False)\n",
    "policy_bmf_flipped = BMF.PREDICTED_PROBABILITIES(*params_bmf_flipped)"
   ]
  },
  {
   "cell_type": "code",
   "execution_count": 40,
   "metadata": {
    "collapsed": false
   },
   "outputs": [
    {
     "name": "stdout",
     "output_type": "stream",
     "text": [
      "PolicyOpt: [LOG] Stochastic (flipped) \t Eventual result: 1.81916156026\n"
     ]
    }
   ],
   "source": [
    "metricValue = currMetric(complete_flipped_ratings, policy_bmf_flipped, None)[0]\n",
    "metricValue = metricValue / numRecs\n",
    "print \"PolicyOpt: [LOG] Stochastic (flipped) \\t Eventual result:\", metricValue"
   ]
  },
  {
   "cell_type": "code",
   "execution_count": 41,
   "metadata": {
    "collapsed": false
   },
   "outputs": [
    {
     "data": {
      "image/png": "[encoded data removed]",
      "text/plain": [
       "<matplotlib.figure.Figure at 0x7f0bc409da90>"
      ]
     },
     "metadata": {},
     "output_type": "display_data"
    }
   ],
   "source": [
    "plt.hist(policy_bmf_flipped.ravel(), bins=50)\n",
    "pass"
   ]
  },
  {
   "cell_type": "markdown",
   "metadata": {},
   "source": [
    "The values for the learned policy are not very spread out"
   ]
  },
  {
   "cell_type": "markdown",
   "metadata": {},
   "source": [
    "Scenario 4: Direct policy learning on original rating"
   ]
  },
  {
   "cell_type": "code",
   "execution_count": 42,
   "metadata": {
    "collapsed": false
   },
   "outputs": [
    {
     "name": "stdout",
     "output_type": "stream",
     "text": [
      "\n",
      "BMF.LEARN: [DBG]\t Iter 0  \t Optimization result: CONVERGENCE: REL_REDUCTION_OF_F_<=_FACTR*EPSMCH\n",
      "\n",
      "BMF.LEARN: [DBG]\t Iter 1  \t Optimization result: CONVERGENCE: REL_REDUCTION_OF_F_<=_FACTR*EPSMCH\n",
      "\n",
      "BMF.LEARN: [DBG]\t Iter 2  \t Optimization result: CONVERGENCE: REL_REDUCTION_OF_F_<=_FACTR*EPSMCH\n",
      "\n",
      "BMF.LEARN: [DBG]\t Iter 3  \t Optimization result: CONVERGENCE: REL_REDUCTION_OF_F_<=_FACTR*EPSMCH\n",
      "\n",
      "BMF.LEARN: [DBG]\t Iter 4  \t Optimization result: CONVERGENCE: REL_REDUCTION_OF_F_<=_FACTR*EPSMCH\n",
      "\n",
      "BMF.LEARN: [DBG]\t Iter 5  \t Optimization result: CONVERGENCE: REL_REDUCTION_OF_F_<=_FACTR*EPSMCH\n",
      "\n",
      "BMF.LEARN: [DBG]\t Iter 6  \t Optimization result: CONVERGENCE: REL_REDUCTION_OF_F_<=_FACTR*EPSMCH\n",
      "\n",
      "BMF.LEARN: [DBG]\t Iter 7  \t Optimization result: CONVERGENCE: REL_REDUCTION_OF_F_<=_FACTR*EPSMCH\n",
      "\n",
      "BMF.LEARN: [DBG]\t Iter 8  \t Optimization result: CONVERGENCE: REL_REDUCTION_OF_F_<=_FACTR*EPSMCH\n",
      "\n",
      "BMF.LEARN: [DBG]\t Iter 9  \t Optimization result: CONVERGENCE: REL_REDUCTION_OF_F_<=_FACTR*EPSMCH\n",
      "\n",
      "BMF.LEARN: [DBG]\t Iter 10  \t Optimization result: CONVERGENCE: REL_REDUCTION_OF_F_<=_FACTR*EPSMCH\n"
     ]
    }
   ],
   "source": [
    "params_bmf_org = BMF.LEARN(partial_org_observation, gpro_inv_org, mu, None, numDims, numRecs, False)\n",
    "policy_bmf_org = BMF.PREDICTED_PROBABILITIES(*params_bmf_org)"
   ]
  },
  {
   "cell_type": "code",
   "execution_count": 43,
   "metadata": {
    "collapsed": false
   },
   "outputs": [
    {
     "name": "stdout",
     "output_type": "stream",
     "text": [
      "PolicyOpt: [LOG] Stochastic (original) \t Eventual result: 1.81925014206\n"
     ]
    }
   ],
   "source": [
    "metricValue = currMetric(complete_org_ratings, policy_bmf_org, None)[0]\n",
    "metricValue = metricValue / numRecs\n",
    "print \"PolicyOpt: [LOG] Stochastic (original) \\t Eventual result:\", metricValue"
   ]
  },
  {
   "cell_type": "code",
   "execution_count": 44,
   "metadata": {
    "collapsed": false
   },
   "outputs": [
    {
     "data": {
      "image/png": "[encoded data removed]",
      "text/plain": [
       "<matplotlib.figure.Figure at 0x7f0bbf725190>"
      ]
     },
     "metadata": {},
     "output_type": "display_data"
    }
   ],
   "source": [
    "plt.hist(policy_bmf_org.ravel(), bins=50)\n",
    "pass"
   ]
  },
  {
   "cell_type": "code",
   "execution_count": null,
   "metadata": {
    "collapsed": true
   },
   "outputs": [],
   "source": []
  }
 ],
 "metadata": {
  "kernelspec": {
   "display_name": "Python 2",
   "language": "python",
   "name": "python2"
  },
  "language_info": {
   "codemirror_mode": {
    "name": "ipython",
    "version": 2
   },
   "file_extension": ".py",
   "mimetype": "text/x-python",
   "name": "python",
   "nbconvert_exporter": "python",
   "pygments_lexer": "ipython2",
   "version": "2.7.6"
  }
 },
 "nbformat": 4,
 "nbformat_minor": 0
}
